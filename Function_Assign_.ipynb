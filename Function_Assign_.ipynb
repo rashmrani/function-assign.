{
  "nbformat": 4,
  "nbformat_minor": 0,
  "metadata": {
    "colab": {
      "provenance": []
    },
    "kernelspec": {
      "name": "python3",
      "display_name": "Python 3"
    },
    "language_info": {
      "name": "python"
    }
  },
  "cells": [
    {
      "cell_type": "code",
      "execution_count": null,
      "metadata": {
        "id": "CtxBBiAjVh-8"
      },
      "outputs": [],
      "source": []
    },
    {
      "cell_type": "markdown",
      "source": [
        "#1.What the difference between a function and a method in python?"
      ],
      "metadata": {
        "id": "tV5Q12dSV5i3"
      }
    },
    {
      "cell_type": "code",
      "source": [],
      "metadata": {
        "id": "AGnXto_HWNO-"
      },
      "execution_count": null,
      "outputs": []
    },
    {
      "cell_type": "markdown",
      "source": [
        "Function are independent blocks of code ,while methods are associated with objects or classes.\n",
        "\n",
        "Independence\n",
        "\n",
        "Function are independent blocks of code that can be called from anywhere,while mathods are tied to objects or classes.\n",
        "\n",
        "object-oriented programming\n",
        "\n",
        "methods are applicable only for objects-oriented programming languages,while function can be used for both object-oriented and non-object-oriented programming languages.\n",
        "\n",
        "Caling\n",
        "\n",
        "Function are called by name ,while methods are accessed using dot notation.\n",
        "\n",
        "Arguments\n",
        "\n",
        "Function may have zero or many arguments,while the first arguments of a method should be \"self\".\n",
        "\n",
        "Scope\n",
        "\n",
        "A method has access to its local variables ,but also to attributes and other methods in the class it is a part of."
      ],
      "metadata": {
        "id": "FZCm4SVCWP5M"
      }
    },
    {
      "cell_type": "code",
      "source": [],
      "metadata": {
        "id": "jrlFSN-qY5ck"
      },
      "execution_count": null,
      "outputs": []
    },
    {
      "cell_type": "markdown",
      "source": [
        "# 2.Explain the concept of function arguments and parameters in python."
      ],
      "metadata": {
        "id": "3_iJMEOXY_rJ"
      }
    },
    {
      "cell_type": "code",
      "source": [],
      "metadata": {
        "id": "ERksrEJPZO3r"
      },
      "execution_count": null,
      "outputs": []
    },
    {
      "cell_type": "markdown",
      "source": [
        "Function parameters are the variables that appear in the function definition,while function arguments are the values that are passed to the function when it is called\n",
        "\n",
        "Definition\n",
        "\n",
        "Parameters are placeholders for the data a function will use,while arguments are the actual values passed to the function.\n",
        "\n",
        "Number\n",
        "\n",
        "the number of parameters in a function is fixed,but the number of arguments can vary.\n",
        "\n",
        "Mutability\n",
        "\n",
        "Parameters do not change ,but the values they hold can change as different arguments are passed to the function.\n",
        "\n",
        "Scope\n",
        "\n",
        "Parameters are local to the function where they are defined ,but arguments can be any scope.\n",
        "\n",
        "Role\n",
        "\n",
        "Parameters define a functions signature,while arguments are used to invoke the function."
      ],
      "metadata": {
        "id": "lbs9sVfQZQ77"
      }
    },
    {
      "cell_type": "code",
      "source": [],
      "metadata": {
        "id": "vWoY0n73bdFg"
      },
      "execution_count": null,
      "outputs": []
    },
    {
      "cell_type": "markdown",
      "source": [
        "# 3.What are the different ways to define and call function in python?"
      ],
      "metadata": {
        "id": "4e7lkMJ-biAl"
      }
    },
    {
      "cell_type": "code",
      "source": [],
      "metadata": {
        "id": "K734rF96byja"
      },
      "execution_count": null,
      "outputs": []
    },
    {
      "cell_type": "markdown",
      "source": [
        "The four steps to definig a function in python are:-\n",
        "\n",
        "1.use the keyword def to declare the function and follow this up with the function name.\n",
        "\n",
        "2.Add parameters to the function :they should be within the parentheses of the function.end your line and colon.\n",
        "\n",
        "3.add statement that the function should execute.\n",
        "\n",
        "4.end your function with a return statement if the function should output something.without the return statement,your function will return an object none."
      ],
      "metadata": {
        "id": "NmTbyXsYb_kp"
      }
    },
    {
      "cell_type": "markdown",
      "source": [],
      "metadata": {
        "id": "janJWRE1bz5l"
      }
    },
    {
      "cell_type": "markdown",
      "source": [
        "# 4.What are the purpose of \"return\" statement in a python function?"
      ],
      "metadata": {
        "id": "vfbqkGwPeUBU"
      }
    },
    {
      "cell_type": "code",
      "source": [],
      "metadata": {
        "id": "jmwDUMy1eo85"
      },
      "execution_count": null,
      "outputs": []
    },
    {
      "cell_type": "markdown",
      "source": [
        "A return statement ends the execution of a function,and return control to the calling function.\n",
        "\n",
        "The purpose of the return statement in a python function is to:\n",
        "\n",
        "*Exit the function:-the return statement marks the end of a function.\n",
        "\n",
        "*Return a value:-thw return statement specifies the value or values to pass back from the function\n",
        "\n",
        "*Send the result back to the caller:-the return statements sends the function result back to the caller code."
      ],
      "metadata": {
        "id": "n5rvMgZxe_jN"
      }
    },
    {
      "cell_type": "code",
      "source": [],
      "metadata": {
        "id": "V7HH06wqgXty"
      },
      "execution_count": null,
      "outputs": []
    },
    {
      "cell_type": "markdown",
      "source": [
        "# 5.What are iterators in python and how do they differ from iterables?"
      ],
      "metadata": {
        "id": "VejYO8RgghZN"
      }
    },
    {
      "cell_type": "code",
      "source": [],
      "metadata": {
        "id": "Oe8JuqgKgvOY"
      },
      "execution_count": null,
      "outputs": []
    },
    {
      "cell_type": "markdown",
      "source": [
        "The differences between iterable and iteratorin python,\n",
        "\n",
        "Meaning and definition\n",
        "\n",
        "An iterable is basically an object that any user can iterate over.while an iterator is also an object that helps a user in iterating over another object.\n",
        "\n",
        "Method used\n",
        "\n",
        "We can generate an iterator when we pass the object to the iter ()method.while we use the __next__() method for iterating this method helps iterators return the next item available from the object.\n",
        "\n",
        "Inter-relation\n",
        "\n",
        "Every iterator is basically iterable.while not every iterable is an iterator."
      ],
      "metadata": {
        "id": "nBP1SDA-gyzJ"
      }
    },
    {
      "cell_type": "code",
      "source": [],
      "metadata": {
        "id": "cblc50oUj2VY"
      },
      "execution_count": null,
      "outputs": []
    },
    {
      "cell_type": "markdown",
      "source": [
        "# 6.Explain the concept of generators in python and how they are defined."
      ],
      "metadata": {
        "id": "edvuXmNwj5tO"
      }
    },
    {
      "cell_type": "code",
      "source": [],
      "metadata": {
        "id": "UrESnOHjkcx3"
      },
      "execution_count": null,
      "outputs": []
    },
    {
      "cell_type": "markdown",
      "source": [
        "A generator in python is a concept that rturn an iterator using the yield keywords.in this article,we will discuss how the generator.in python ,a generators is a function that return an iterator is a function that return an iterator that produces a sequence of values when iterated over.\n",
        "\n",
        "Generators are useful when we want to produce a large sequence of values ,but we don not wan to store all of them in memory at once.\n",
        "\n",
        "\n",
        "use of python generators are easy to implement,memory efficient,represent infinite stream,pipelining generators.\n",
        "\n",
        "create python generator\n",
        "\n",
        "in python similar to defining a normal function,we can define a generator function using the keyword ,but instead of the statement weuse the statement."
      ],
      "metadata": {
        "id": "ZT-5WqYXkd1s"
      }
    },
    {
      "cell_type": "code",
      "source": [],
      "metadata": {
        "id": "pBmZcQ4Qn8it"
      },
      "execution_count": null,
      "outputs": []
    },
    {
      "cell_type": "markdown",
      "source": [
        "# 7.What are the advantages of using generators over regular function?"
      ],
      "metadata": {
        "id": "5MEc4unXoEMC"
      }
    },
    {
      "cell_type": "code",
      "source": [],
      "metadata": {
        "id": "u6TBRMxXoaIj"
      },
      "execution_count": null,
      "outputs": []
    },
    {
      "cell_type": "markdown",
      "source": [
        "The advantages of using generators over regular function;-\n",
        "\n",
        "Memory efficiency\n",
        "\n",
        "Generators only evaluate the code that is needed,so they are more memory efficient than regular functions.generators generate values as they are needed,so they do not need to store all values in memory at once.\n",
        "\n",
        "Improved performance\n",
        "\n",
        "Generators can improve performance by avoiding the need to generate and store all elements upfront.\n",
        "\n",
        "Lazy loading\n",
        "\n",
        "Generators can be used to lazy load data ,which means that the data is not loaded untile it is actually needed.\n",
        "\n",
        "Infinite sequences\n",
        "\n",
        "Generators make i easy to create infinite sequences by allowing pausing and resuming .this is ideal for real-time data processing.\n",
        "\n",
        "Composability\n",
        "\n",
        "Generators can be easily composed to create new generators,enabling powerful data processing pipelines.\n",
        "\n"
      ],
      "metadata": {
        "id": "jM8gKOpgoimr"
      }
    },
    {
      "cell_type": "code",
      "source": [],
      "metadata": {
        "id": "crj06jKZrPqn"
      },
      "execution_count": null,
      "outputs": []
    },
    {
      "cell_type": "markdown",
      "source": [
        "# 8.What is a lambda function in python and when is it typically used?"
      ],
      "metadata": {
        "id": "M6v81F1JrZUT"
      }
    },
    {
      "cell_type": "code",
      "source": [],
      "metadata": {
        "id": "LkeODO_crob-"
      },
      "execution_count": null,
      "outputs": []
    },
    {
      "cell_type": "markdown",
      "source": [
        "A lambda function is a short,anonymous function that is used for simple tasks that can be written in a single line.they are often used in functional programming with higher-order function like map,filter, and reduce.\n",
        "\n",
        "Anonymous:-they are declared without a name.\n",
        "\n",
        "single-line:-they are defined in a single line using the syntax lambda arguments expression\n",
        "\n",
        "Concise:-They are more concise than regular function,which are defined using the def keyword.\n",
        "\n",
        "Can have multiple arguments;-they can have multiple arguments,but only one expression.\n",
        "\n",
        "Ideal for short-term use:-they are used when a short-term function is required."
      ],
      "metadata": {
        "id": "YAjFwnwkrsbQ"
      }
    },
    {
      "cell_type": "code",
      "source": [],
      "metadata": {
        "id": "jj0A7wbTvNy7"
      },
      "execution_count": null,
      "outputs": []
    },
    {
      "cell_type": "markdown",
      "source": [
        "# 9.Explain the purpose and usage the \"map()\"  function in python."
      ],
      "metadata": {
        "id": "-DGff8WDvSQF"
      }
    },
    {
      "cell_type": "code",
      "source": [],
      "metadata": {
        "id": "ZiyypIAov3TS"
      },
      "execution_count": null,
      "outputs": []
    },
    {
      "cell_type": "markdown",
      "source": [
        "The Map() Function is useful for simplifying iterative operations, and can be more performant than using a for loop.\n",
        "\n",
        "the map() function are:-\n",
        "\n",
        "Purpose\n",
        "\n",
        "Applies a single function to all the elements in an iterable.\n",
        "\n",
        "Syntax\n",
        "\n",
        "map(function,iterable,[iterable 2,iterable 3, ...])\n",
        "\n",
        "Return value\n",
        "\n",
        "Amap object,which is an iterator that can be used in other parts of the program.\n",
        "\n",
        "Advantages\n",
        "\n",
        "Cleaner code,consumes less memory,optimizes code,and makes it easier to perform operations without using loops.\n",
        "\n",
        "Usage\n",
        "\n",
        "Can be used with a lambda function,a user-defined function,or with multiple iterable arguments."
      ],
      "metadata": {
        "id": "kCAFm0fDwuGk"
      }
    },
    {
      "cell_type": "markdown",
      "source": [
        "# 10.What is the difference between  map(),reduce(), and filter() function in python?"
      ],
      "metadata": {
        "id": "NXRYEhri0GqR"
      }
    },
    {
      "cell_type": "markdown",
      "source": [
        "The main difference between map,reduce, and filter is what they are:-\n",
        "\n",
        "Map,filter and reduce are functions commonly used in functional programming.map applies a given function to each item of an iterable and return a list of the resul.filter constructs a list from elements of an iterable for which a function return true reduce applies a rolling computation to sequential pairs of values in a list and returns a single resulat.\n",
        "\n",
        "\n",
        "Map filter and reduce are function in programming used to manipulate arrays or list .map applies a given function to each item of an array and return  new array.Filter creates a new array with all elements that pass a test implemented by the provided functionReduce applies a function against an accumulator and each element in the array to reduce it to a single output value."
      ],
      "metadata": {
        "id": "hPEgxebv1EAO"
      }
    },
    {
      "cell_type": "code",
      "source": [],
      "metadata": {
        "id": "FtI3k1pI3uSQ"
      },
      "execution_count": null,
      "outputs": []
    },
    {
      "cell_type": "markdown",
      "source": [],
      "metadata": {
        "id": "zh-4W2Zd3y4S"
      }
    }
  ]
}